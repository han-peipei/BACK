{
 "cells": [
  {
   "cell_type": "code",
   "execution_count": 1,
   "metadata": {},
   "outputs": [],
   "source": [
    "import os\n",
    "os.environ[\"KMP_DUPLICATE_LIB_OK\"]=\"TRUE\"\n",
    "import numpy as np\n",
    "import xarray as xr\n",
    "import metpy.calc\n",
    "from metpy.units import units\n",
    "from numpy import sqrt,mod,arctan2\n",
    "import os\n",
    "import pandas as pd\n",
    "import shutil\n",
    "from netCDF4 import Dataset\n",
    "from datetime import datetime\n",
    "import matplotlib \n",
    "import matplotlib.pyplot as plt\n",
    "import cartopy.crs as ccrs\n",
    "import cartopy.feature as cfeature\n",
    "from matplotlib.ticker import MaxNLocator\n",
    "from matplotlib.ticker import ScalarFormatter, FormatStrFormatter\n",
    "from cartopy.mpl.gridliner import LONGITUDE_FORMATTER, LATITUDE_FORMATTER \n",
    "import cartopy.crs as ccrs\n",
    "import cartopy.feature as cfeature\n",
    "from cartopy.io.shapereader import Reader\n",
    "import matplotlib.colors as colors\n",
    "import matplotlib as mpl \n",
    "import matplotlib.ticker as mticker\n",
    "# import cmaps\n",
    "from copy import copy\n",
    "import shapely.geometry as sgeom\n",
    "import matplotlib.gridspec as gridspec\n",
    "import matplotlib.pyplot as plt\n",
    "from matplotlib.gridspec import GridSpec\n",
    "import matplotlib.patches as mpatches\n",
    "import scipy"
   ]
  },
  {
   "cell_type": "markdown",
   "metadata": {},
   "source": [
    "### 读文件"
   ]
  },
  {
   "cell_type": "code",
   "execution_count": 2,
   "metadata": {},
   "outputs": [],
   "source": [
    "file='/thfs1/home/qx_hyt/hpp/data/GRID_TJHY_PUB_EDA_AFTJ_000_DT_20230331200000_000-240_2206.nc'\n",
    "file_var=xr.open_dataset(file)\n",
    "\n",
    "u=file_var['U'][85,:,:]\n",
    "v=file_var['V'][85,:,:]\n",
    "wspd=sqrt( u*u+v*v )\n",
    "wdir=metpy.calc.wind_direction(u*units('m/s'), v*units('m/s'), convention='from')\n",
    "# wdir=metpy.calc.wind_direction(u*units('m/s'), v*units('m/s'), convention='from')\n",
    "# x=metpy.calc.sweat_index(p_time,np.mean(t_mean,axis=(1,2)),np.mean(Td,axis=(1,2)),wspd.mean(),wdir.mean(),vertical_dim=0)[0].magnitude  \n",
    "# wdir=mod(180.0+arctan2(u,v),360.0)"
   ]
  },
  {
   "cell_type": "code",
   "execution_count": 4,
   "metadata": {},
   "outputs": [
    {
     "data": {
      "text/plain": [
       "<matplotlib.quiver.Barbs at 0x4000c1093100>"
      ]
     },
     "execution_count": 4,
     "metadata": {},
     "output_type": "execute_result"
    },
    {
     "data": {
      "image/png": "[encoded data removed]",
      "text/plain": [
       "<Figure size 640x480 with 1 Axes>"
      ]
     },
     "metadata": {},
     "output_type": "display_data"
    }
   ],
   "source": [
    "fig, ax = plt.subplots()\n",
    "X, Y = np.meshgrid([1], [1])\n",
    "ax.barbs(X, Y, u[0,0].values, v[0,0].values, length=6,barb_increments={'half':2,'full':4,'flag':20},\n",
    "                  color='black', zorder=10, label='wind')"
   ]
  },
  {
   "cell_type": "markdown",
   "metadata": {},
   "source": [
    "### picture"
   ]
  },
  {
   "cell_type": "code",
   "execution_count": 9,
   "metadata": {},
   "outputs": [
    {
     "ename": "ModuleNotFoundError",
     "evalue": "No module named 'deco'",
     "output_type": "error",
     "traceback": [
      "\u001b[0;31m---------------------------------------------------------------------------\u001b[0m",
      "\u001b[0;31mModuleNotFoundError\u001b[0m                       Traceback (most recent call last)",
      "\u001b[1;32m/thfs1/home/qx_hyt/hpp/code/wind.ipynb 单元格 6\u001b[0m line \u001b[0;36m1\n\u001b[0;32m----> <a href='vscode-notebook-cell://ssh-remote%2B192.168.10.10/thfs1/home/qx_hyt/hpp/code/wind.ipynb#W6sdnNjb2RlLXJlbW90ZQ%3D%3D?line=0'>1</a>\u001b[0m \u001b[39mfrom\u001b[39;00m \u001b[39mdeco\u001b[39;00m \u001b[39mimport\u001b[39;00m \u001b[39m*\u001b[39m\n\u001b[1;32m      <a href='vscode-notebook-cell://ssh-remote%2B192.168.10.10/thfs1/home/qx_hyt/hpp/code/wind.ipynb#W6sdnNjb2RlLXJlbW90ZQ%3D%3D?line=2'>3</a>\u001b[0m \u001b[39m@concurrent\u001b[39m(processes\u001b[39m=\u001b[39m\u001b[39m4\u001b[39m) \u001b[39m# We add this for the concurrent function\u001b[39;00m\n\u001b[1;32m      <a href='vscode-notebook-cell://ssh-remote%2B192.168.10.10/thfs1/home/qx_hyt/hpp/code/wind.ipynb#W6sdnNjb2RlLXJlbW90ZQ%3D%3D?line=3'>4</a>\u001b[0m \u001b[39mdef\u001b[39;00m \u001b[39mprocess_lat_lon\u001b[39m(lat, lon, data):\n\u001b[1;32m      <a href='vscode-notebook-cell://ssh-remote%2B192.168.10.10/thfs1/home/qx_hyt/hpp/code/wind.ipynb#W6sdnNjb2RlLXJlbW90ZQ%3D%3D?line=4'>5</a>\u001b[0m   \u001b[39m#Does some work which takes a while\u001b[39;00m\n\u001b[1;32m      <a href='vscode-notebook-cell://ssh-remote%2B192.168.10.10/thfs1/home/qx_hyt/hpp/code/wind.ipynb#W6sdnNjb2RlLXJlbW90ZQ%3D%3D?line=5'>6</a>\u001b[0m   \u001b[39mreturn\u001b[39;00m result\n",
      "\u001b[0;31mModuleNotFoundError\u001b[0m: No module named 'deco'"
     ]
    }
   ],
   "source": [
    "from deco import *\n",
    "\n",
    "@concurrent(processes=4) # We add this for the concurrent function\n",
    "def process_lat_lon(lat, lon, data):\n",
    "  #Does some work which takes a while\n",
    "  return result\n",
    "\n",
    "@synchronized # And we add this for the function which calls the concurrent function\n",
    "def process_data_set(data):\n",
    "  results = defaultdict(dict)\n",
    "  for lat in range(...):\n",
    "    for lon in range(...):\n",
    "      results[lat][lon] = process_lat_lon(lat, lon, data)\n",
    "  return results"
   ]
  },
  {
   "cell_type": "code",
   "execution_count": 10,
   "metadata": {},
   "outputs": [],
   "source": [
    "file='/thfs1/home/qx_hyt/hpp/data/GRID_TJHY_PUB_EDA_AFTJ_000_DT_20230331200000_000-240_2206.nc'\n",
    "file_var=xr.open_dataset(file)\n",
    "dur=48\n",
    "time=pd.date_range(start = '4/04/2023',periods = 60,freq = 'h')\n",
    "for i in range(0,dur):\n",
    "        u=file_var['U'][84+i,:,:]\n",
    "        v=file_var['V'][84+i,:,:]\n",
    "        # wspd=sqrt( u*u+v*v )\n",
    "        # wdir=metpy.calc.wind_direction(u*units('m/s'), v*units('m/s'), convention='from')\n",
    "\n",
    "        bounds = [117., 127., 35., 41.]\n",
    "        transform_sel = ccrs.PlateCarree()\n",
    "        proj = ccrs.LambertConformal(central_longitude=118, central_latitude=32,\n",
    "                                standard_parallels=(30, 60))\n",
    "        matplotlib.rcParams['xtick.labelsize'] = 8\n",
    "        matplotlib.rcParams['ytick.labelsize'] = 8\n",
    "        matplotlib.rcParams[\"font.weight\"] = \"bold\"\n",
    "        # crs = ccrs.LambertConformal(central_longitude=-100.0, central_latitude=45.0)\n",
    "        fontdict = {'fontsize': 12,'fontweight' : 800}\n",
    "\n",
    "        fig = plt.figure(1, figsize=(10, 10), constrained_layout=False)\n",
    "        ax = fig.add_subplot(1, 1, 1, projection=proj)\n",
    "        ax.set_extent(bounds, crs=ccrs.PlateCarree())\n",
    "        ax.coastlines('50m', edgecolor='black', linewidth=0.75)\n",
    "\n",
    "        gl = ax.gridlines(crs=ccrs.PlateCarree(), \\\n",
    "        draw_labels=True, x_inline=False, y_inline=False,linewidth=0.5, color='k', alpha=0.5, linestyle='--')\n",
    "        gl.top_labels = False ##关闭上侧坐标显示\n",
    "        gl.right_labels = False ##关闭右侧坐标显示\n",
    "        gl.xformatter = LONGITUDE_FORMATTER ##坐标刻度转换为经纬度样式\n",
    "        gl.yformatter = LATITUDE_FORMATTER \n",
    "        label_format = '{:,.1f}'\n",
    "        ylabels = ax.get_yticks().tolist()\n",
    "        xlabels = ax.get_xticks().tolist()\n",
    "        ax.yaxis.set_major_locator(mticker.FixedLocator(ylabels))  \n",
    "        ax.set_yticklabels([label_format.format(x) for x in ylabels]) \n",
    "\n",
    "        # ax.yaxis.set_major_locator(mticker.FixedLocator(xlabels))  \n",
    "        # ax.set_xticklabels([label_format.format(x) for x in xlabels], rotation=45) \n",
    "        # ax.set_xticklabels([label_format.format(x) for x in xlabels],rotation=30) \n",
    "\n",
    "        # gl.xlocator = mticker.FixedLocator(np.arange(bounds[0], bounds[1]+1, 1.0))\n",
    "        # gl.ylocator = mticker.FixedLocator(np.arange(bounds[2], bounds[3]+1, 1.0))\n",
    "        gl.xlabel_style={\n",
    "        'size':6}\n",
    "        gl.ylabel_style={\n",
    "        'size':6}\n",
    "        # ax.tick_params(which='major', labelrotation=30)\n",
    "        # ax.set_extent((bounds), transform_sel)     #显示所选择的区域\n",
    "        ax.add_feature(cfeature.LAND, facecolor='0.9') #Grayscale colors can be set using 0 (black) to 1 (white)\n",
    "        # ax.add_feature(cfeature.LAKES, alpha=0.9, zorder=1)  #Alpha sets transparency (0 is transparent, 1 is solid)\n",
    "        ax.add_feature(cfeature.BORDERS.with_scale('10m'), zorder=10, linestyle=':') # high resolution\n",
    "        ax.add_feature(cfeature.COASTLINE.with_scale('50m'), zorder=10, linestyle=':') # mediate resolution\n",
    "        ax.add_feature(cfeature.RIVERS, zorder=1) # low resolution\n",
    "\n",
    "        states_provinces = cfeature.NaturalEarthFeature(\n",
    "                category='cultural',  name='admin_1_states_provinces_lines',\n",
    "                scale='50m',facecolor='none')\n",
    "        ax.add_feature(states_provinces, edgecolor='gray', zorder=10)\n",
    "        fname = '/thfs1/home/qx_hyt/hpp/map/bou2_4p.shp'\n",
    "        adm1_shapes = list(Reader(fname).geometries())\n",
    "        ax.add_geometries(adm1_shapes, crs=ccrs.PlateCarree(),edgecolor='black', facecolor='none', alpha=0.5,linewidths=0.6)\n",
    "\n",
    "        states_diqu = cfeature.NaturalEarthFeature(\n",
    "                category='cultural',  name='admin_1_states_provinces_lines',\n",
    "                scale='50m',facecolor='none')\n",
    "        ax.add_feature(states_diqu, edgecolor='gray', zorder=10)\n",
    "        fname_di = '/thfs1/home/qx_hyt/hpp/map/ChinaMap/China_DiQuJie_Polyline.shp'\n",
    "        adm2_shapes = list(Reader(fname_di).geometries())\n",
    "        ax.add_geometries(adm2_shapes, crs=ccrs.PlateCarree(),edgecolor='black', facecolor='none', alpha=0.5,linewidths=0.7)\n",
    "        # ax.set_xticklabels(ax.get_xticks(), rotation = 45)\n",
    "\n",
    "        ax.add_feature(cfeature.STATES, linewidth=0.25)\n",
    "        jet300 = ax.barbs(u['lon'][::8], u['lat'][::8], u[:,:][::8,::8].values, v[:,:][::8,::8].values, length=6,barb_increments={'half':2,'full':4,'flag':20},\n",
    "                        transform=ccrs.PlateCarree(),\n",
    "                        color='black', zorder=10, label='wind')\n",
    "        # green = mpatches.Patch(color='black', label='Surface Td > 65 F')\n",
    "        # leg = plt.legend(handles=[jet300], loc=3,framealpha=1)\n",
    "        # leg.set_zorder(100)\n",
    "        plt.title(\"2023-03-31 20:00:00\", loc='left',fontsize=12,fontweight='heavy')\n",
    "        plt.title(time[8+i], loc='right',fontsize=12,fontweight='heavy')\n",
    "        plt.savefig(\"/thfs1/home/qx_hyt/hpp/output_data/wind/\"+str(time[8+i])+\".jpg\",dpi=600, bbox_inches='tight')\n",
    "        plt.close('all')\n",
    "# plt.setp(ax.get_xticklabels(), rotation=45)\n",
    "# plt.xticks(rotation=30)"
   ]
  }
 ],
 "metadata": {
  "kernelspec": {
   "display_name": "base",
   "language": "python",
   "name": "python3"
  },
  "language_info": {
   "codemirror_mode": {
    "name": "ipython",
    "version": 3
   },
   "file_extension": ".py",
   "mimetype": "text/x-python",
   "name": "python",
   "nbconvert_exporter": "python",
   "pygments_lexer": "ipython3",
   "version": "3.8.18"
  }
 },
 "nbformat": 4,
 "nbformat_minor": 2
}
