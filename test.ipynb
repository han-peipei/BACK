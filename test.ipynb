{
 "cells": [
  {
   "cell_type": "code",
   "execution_count": 1,
   "metadata": {},
   "outputs": [],
   "source": [
    "import numpy as np\n",
    "import xarray as xr\n",
    "import metpy.calc\n",
    "from metpy.units import units\n",
    "from numpy import sqrt,mod,arctan2\n",
    "import os\n",
    "import pandas as pd\n",
    "import shutil\n",
    "from netCDF4 import Dataset\n",
    "from datetime import datetime\n",
    "import matplotlib \n",
    "import matplotlib.pyplot as plt\n",
    "import cartopy.crs as ccrs\n",
    "import cartopy.feature as cfeature\n",
    "from matplotlib.ticker import MaxNLocator\n",
    "from matplotlib.ticker import ScalarFormatter, FormatStrFormatter\n",
    "from cartopy.mpl.gridliner import LONGITUDE_FORMATTER, LATITUDE_FORMATTER \n",
    "import cartopy.crs as ccrs\n",
    "import cartopy.feature as cfeature\n",
    "from cartopy.io.shapereader import Reader\n",
    "import matplotlib.colors as colors\n",
    "import matplotlib as mpl \n",
    "import matplotlib.ticker as mticker\n",
    "# import cmaps\n",
    "from copy import copy\n",
    "import shapely.geometry as sgeom\n",
    "import matplotlib.gridspec as gridspec\n",
    "import matplotlib.pyplot as plt\n",
    "from matplotlib.gridspec import GridSpec\n",
    "import matplotlib.patches as mpatches"
   ]
  },
  {
   "cell_type": "code",
   "execution_count": 3,
   "metadata": {},
   "outputs": [],
   "source": [
    "file='/thfs1/home/qx_hyt/hpp/data/GRID_TJHY_PUB_EDA_AFTJ_000_DT_20230331200000_000-240_2206.nc'\n",
    "file_var=xr.open_dataset(file)\n",
    "\n",
    "u=file_var['U'][47,:,:]\n",
    "v=file_var['V'][47,:,:]\n",
    "wspd=sqrt( u*u+v*v )\n",
    "wdir=metpy.calc.wind_direction(u*units('m/s'), v*units('m/s'), convention='from')"
   ]
  },
  {
   "cell_type": "code",
   "execution_count": 8,
   "metadata": {},
   "outputs": [
    {
     "data": {
      "text/plain": [
       "<matplotlib.quiver.Barbs at 0x4000e99b4310>"
      ]
     },
     "execution_count": 8,
     "metadata": {},
     "output_type": "execute_result"
    },
    {
     "data": {
      "image/png": "[encoded data removed]",
      "text/plain": [
       "<Figure size 640x480 with 1 Axes>"
      ]
     },
     "metadata": {},
     "output_type": "display_data"
    }
   ],
   "source": [
    "fig, ax = plt.subplots()\n",
    "X, Y = np.meshgrid([1], [1])\n",
    "ax.barbs(X, Y, u[0,0].values, v[0,0].values, length=6,barb_increments={'half':2,'full':4,'flag':20},\n",
    "                  color='black', zorder=10, label='wind')"
   ]
  }
 ],
 "metadata": {
  "kernelspec": {
   "display_name": "convt",
   "language": "python",
   "name": "python3"
  },
  "language_info": {
   "codemirror_mode": {
    "name": "ipython",
    "version": 3
   },
   "file_extension": ".py",
   "mimetype": "text/x-python",
   "name": "python",
   "nbconvert_exporter": "python",
   "pygments_lexer": "ipython3",
   "version": "3.7.12"
  },
  "orig_nbformat": 4
 },
 "nbformat": 4,
 "nbformat_minor": 2
}
